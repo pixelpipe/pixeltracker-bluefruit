{
 "metadata": {
  "language_info": {
   "codemirror_mode": {
    "name": "ipython",
    "version": 3
   },
   "file_extension": ".py",
   "mimetype": "text/x-python",
   "name": "python",
   "nbconvert_exporter": "python",
   "pygments_lexer": "ipython3",
   "version": "3.9.2-final"
  },
  "orig_nbformat": 2,
  "kernelspec": {
   "name": "python3",
   "display_name": "Python 3.9.2 64-bit",
   "metadata": {
    "interpreter": {
     "hash": "9c6ee0786fb3cc2e13f8286eabad989233b9127b4bbc58b07f1dbb8da2411d19"
    }
   }
  }
 },
 "nbformat": 4,
 "nbformat_minor": 2,
 "cells": [
  {
   "cell_type": "code",
   "execution_count": 1,
   "metadata": {},
   "outputs": [
    {
     "output_type": "execute_result",
     "data": {
      "text/plain": [
       "\"\\nimport numpy as np\\nimport pandas as pd\\nimport matplotlib.pyplot as plt\\nfrom pandas import DataFrame, Series\\nimport scipy\\nimport os\\nfrom ubxparser import UbxParser\\nfrom ubxmaps import UbxMap\\nimport ipywidgets as widgets\\nfrom ipywidgets import interact, interact_manual, Layout, HTML\\n# Extra options\\npd.options.display.max_rows = 30\\npd.options.display.max_columns = 25\\n# Show all code cells outputs\\nfrom IPython.core.interactiveshell import InteractiveShell\\nInteractiveShell.ast_node_interactivity = 'all'\\nfrom IPython.display import Image, display, HTML\\n\""
      ]
     },
     "metadata": {},
     "execution_count": 1
    }
   ],
   "source": [
    "from ubxmaps import UbxMap\n",
    "m = UbxMap(basemapName=\"Mapnik\", animate = True, zoom=17, width=\"99%\", height=\"720px\")\n",
    "m.Load()\n",
    "m.DrawRoute()\n",
    "m.Display()"
   ]
  }
 ]
}