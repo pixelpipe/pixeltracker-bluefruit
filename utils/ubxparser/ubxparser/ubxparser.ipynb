{
 "metadata": {
  "language_info": {
   "codemirror_mode": {
    "name": "ipython",
    "version": 3
   },
   "file_extension": ".py",
   "mimetype": "text/x-python",
   "name": "python",
   "nbconvert_exporter": "python",
   "pygments_lexer": "ipython3",
   "version": "3.9.2-final"
  },
  "orig_nbformat": 2,
  "kernelspec": {
   "name": "python3",
   "display_name": "Python 3.9.2 64-bit",
   "metadata": {
    "interpreter": {
     "hash": "9c6ee0786fb3cc2e13f8286eabad989233b9127b4bbc58b07f1dbb8da2411d19"
    }
   }
  }
 },
 "nbformat": 4,
 "nbformat_minor": 2,
 "cells": [
  {
   "cell_type": "code",
   "execution_count": 1,
   "metadata": {
    "tags": []
   },
   "outputs": [],
   "source": [
    "%matplotlib inline\n",
    "import pandas\n",
    "import matplotlib.pyplot as plt\n",
    "from matplotlib.pyplot import figure\n",
    "from pandas import DataFrame, Series\n",
    "from ubxparser import UbxParser"
   ]
  },
  {
   "cell_type": "code",
   "execution_count": null,
   "metadata": {},
   "outputs": [],
   "source": []
  },
  {
   "cell_type": "code",
   "execution_count": null,
   "metadata": {
    "tags": []
   },
   "outputs": [],
   "source": [
    "parser = UbxParser()\n",
    "data = []\n",
    "data += parser.read(f\"C:\\\\projects\\\\pixeltracker\\\\utils\\\\ubxparser\\\\ubxparser\\\\0.pubx\")\n",
    "print(data[0][\"Time\"])\n",
    "gps = DataFrame.from_dict(data)\n"
   ]
  },
  {
   "cell_type": "code",
   "execution_count": null,
   "metadata": {},
   "outputs": [],
   "source": [
    "gps.plot(kind='line',y='Light')\n",
    "#acc.plot(kind='line',y='accy', color='red', ax=ax)"
   ]
  }
 ]
}