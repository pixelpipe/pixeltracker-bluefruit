{
 "metadata": {
  "language_info": {
   "codemirror_mode": {
    "name": "ipython",
    "version": 3
   },
   "file_extension": ".py",
   "mimetype": "text/x-python",
   "name": "python",
   "nbconvert_exporter": "python",
   "pygments_lexer": "ipython3",
   "version": 3
  },
  "orig_nbformat": 2
 },
 "nbformat": 4,
 "nbformat_minor": 2,
 "cells": [
  {
   "cell_type": "code",
   "execution_count": null,
   "metadata": {},
   "outputs": [],
   "source": [
    "#!pip install ipyleaflet\n"
   ]
  },
  {
   "cell_type": "code",
   "execution_count": null,
   "metadata": {},
   "outputs": [],
   "source": [
    "from __future__ import print_function\n",
    "from ipywidgets import interact, interactive, fixed, interact_manual\n",
    "import ipywidgets as widgets\n",
    "from ipyleaflet import Map, basemaps, basemap_to_tiles, Circle\n",
    "\n",
    "zoom = 14\n",
    "location = [49,8]\n",
    "\n",
    "def renderHandler(id):\n",
    "    global zoom\n",
    "    global location\n",
    "    global map\n",
    "    global marker\n",
    "    try:\n",
    "        row = df.iloc[id]\n",
    "        if row[\"FullyResolved\"]:\n",
    "            lat = row['Latitude']\n",
    "            lon = row['Longitude']\n",
    "            hAcc = row['HorAcc']\n",
    "            vAcc = row['VertAcc']\n",
    "            print(f\"{hAcc} {vAcc}\")\n",
    "            location = [lat,lon]\n",
    "            circle = Circle()\n",
    "            circle.location = location\n",
    "            #circle.radius = int((hAcc * hAcc+ vAcc * vAcc) // 4)\n",
    "            circle.radius = 5\n",
    "            circle.color = \"green\"\n",
    "            circle.fill_color = \"green\"\n",
    "            map.add_layer(circle)\n",
    "            #marker = Marker(location=center, draggable=False)\n",
    "            #map.add_layer(marker)\n",
    "            #display(map)\n",
    "            #print(row['Temperature'])\n",
    "    except:\n",
    "        pass\n",
    "    return id\n",
    "\n",
    "def zoomHandler(Zoom):\n",
    "    return Zoom\n",
    "\n",
    "interact(renderHandler, id=widgets.IntSlider(min=0, max=df.size, step=1, value=0, description = \"Log ID\"))\n",
    "interact(zoomHandler, Zoom=widgets.IntSlider(min=1, max=14, step=1, value=14, description = \"Map Zoom\"))\n",
    "\n",
    "map = Map(basemap=basemaps.OpenStreetMap.Mapnik, center=location, zoom=zoom)\n",
    "map"
   ]
  }
 ]
}